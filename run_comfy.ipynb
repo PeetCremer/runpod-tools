{
 "cells": [
  {
   "cell_type": "markdown",
   "id": "18be6085-f920-40bf-913e-53316d0f503d",
   "metadata": {
    "id": "18be6085-f920-40bf-913e-53316d0f503d"
   },
   "source": [
    "# Install ComfyUI and dependencies"
   ]
  },
  {
   "cell_type": "code",
   "execution_count": null,
   "id": "8a2884c3",
   "metadata": {},
   "outputs": [],
   "source": [
    "!for WORKFLOW_FILE in *_workflow.json; do comfy --recent node install-deps --workflow ${WORKFLOW_FILE}; done"
   ]
  },
  {
   "cell_type": "markdown",
   "id": "48184b7b-9cd0-4f04-9c85-4464031d6596",
   "metadata": {
    "id": "48184b7b-9cd0-4f04-9c85-4464031d6596",
    "tags": []
   },
   "source": [
    "# Start ComfyUI"
   ]
  },
  {
   "cell_type": "code",
   "execution_count": null,
   "id": "e73f76a6-01a4-44d0-87a7-77fed9c9b77c",
   "metadata": {
    "id": "e73f76a6-01a4-44d0-87a7-77fed9c9b77c",
    "scrolled": true,
    "tags": []
   },
   "outputs": [],
   "source": [
    "import os\n",
    "runpod_pod_id = os.getenv(\"RUNPOD_POD_ID\")\n",
    "os.environ[\"CORS_ORIGIN\"] = f\"https://{runpod_pod_id}-3000.proxy.runpod.net\"\n",
    "print(os.environ[\"CORS_ORIGIN\"])\n",
    "\n",
    "!comfy --recent launch -- --listen --enable-cors-header $CORS_ORIGIN --port 3000 --preview-method auto"
   ]
  }
 ],
 "metadata": {
  "colab": {
   "provenance": []
  },
  "kernelspec": {
   "display_name": ".venv",
   "language": "python",
   "name": "python3"
  },
  "language_info": {
   "codemirror_mode": {
    "name": "ipython",
    "version": 3
   },
   "file_extension": ".py",
   "mimetype": "text/x-python",
   "name": "python",
   "nbconvert_exporter": "python",
   "pygments_lexer": "ipython3",
   "version": "3.12.5"
  }
 },
 "nbformat": 4,
 "nbformat_minor": 5
}
